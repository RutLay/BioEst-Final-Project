{
 "cells": [
  {
   "cell_type": "code",
   "execution_count": null,
   "id": "090069b1",
   "metadata": {
    "vscode": {
     "languageId": "plaintext"
    }
   },
   "outputs": [],
   "source": [
    "print(\"te amo\")"
   ]
  },
  {
   "cell_type": "markdown",
   "id": "f7f328a2",
   "metadata": {},
   "source": [
    "fvnsdfislvsvl"
   ]
  }
 ],
 "metadata": {
  "language_info": {
   "name": "python"
  }
 },
 "nbformat": 4,
 "nbformat_minor": 5
}
