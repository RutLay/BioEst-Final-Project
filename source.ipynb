{
 "cells": [
  {
   "cell_type": "code",
   "execution_count": 30,
   "id": "8a65e454",
   "metadata": {},
   "outputs": [],
   "source": [
    "import pandas as pd\n",
    "from pandas.api import types as ptypes\n",
    "import numpy as np\n",
    "import chardet\n",
    "\n",
    "import os \n",
    "from scipy import stats"
   ]
  },
  {
   "cell_type": "code",
   "execution_count": 31,
   "id": "877d3c57",
   "metadata": {},
   "outputs": [
    {
     "name": "stdout",
     "output_type": "stream",
     "text": [
      "c:\\Users\\Joel David\\OneDrive\\Desktop\\Rut\\Rut UNAM\\2do semestre\\Bioestadística\\Statacode\n"
     ]
    }
   ],
   "source": [
    "import os\n",
    "\n",
    "cwd = os.getcwd()\n",
    "\n",
    "print(cwd)"
   ]
  },
  {
   "cell_type": "code",
   "execution_count": 32,
   "id": "5d0742d6",
   "metadata": {},
   "outputs": [
    {
     "name": "stdout",
     "output_type": "stream",
     "text": [
      "Current directory: c:\\Users\\Joel David\\OneDrive\\Desktop\\Rut\\Rut UNAM\\2do semestre\\Bioestadística\\Statacode\n"
     ]
    }
   ],
   "source": [
    "from pathlib import Path\n",
    "\n",
    "cwd = Path.cwd()\n",
    "\n",
    "print(\"Current directory:\", cwd)"
   ]
  },
  {
   "cell_type": "code",
   "execution_count": 33,
   "id": "e37a46c8",
   "metadata": {},
   "outputs": [],
   "source": [
    "data_idir='Data/'\n",
    "filename='data_basal_musculoesqueleticos.csv'"
   ]
  },
  {
   "cell_type": "code",
   "execution_count": 34,
   "id": "8a10949e",
   "metadata": {},
   "outputs": [
    {
     "name": "stdout",
     "output_type": "stream",
     "text": [
      "Detected encoding:utf-8\n"
     ]
    }
   ],
   "source": [
    "raw=open(data_idir+filename,'rb').read(10000)\n",
    "result=chardet.detect(raw)\n",
    "encoding=result['encoding']\n",
    "print(f\"Detected encoding:{encoding}\")\n",
    "df=pd.read_csv(data_idir+filename,encoding=encoding)  "
   ]
  },
  {
   "cell_type": "code",
   "execution_count": 35,
   "id": "0ab77b60",
   "metadata": {},
   "outputs": [],
   "source": [
    "def infer_column_type(series, cat_threshold=0.05,   unique_thresh =10):\n",
    "    if ptypes.is_categorical_dtype(series) or ptypes.is_object_dtype(series):\n",
    "        return 'categorical'\n",
    "    \n",
    "    if ptypes.is_numeric_dtype(series):\n",
    "             n=len(series)\n",
    "             nunq=series.nunique(dropna=True)\n",
    "             frac=nunq/n\n",
    "\n",
    "             if nunq<= unique_thresh or frac <=  cat_threshold:\n",
    "                 return 'categorical'\n",
    "             else: \n",
    "                 return 'numeric'\n",
    "    return 'unknown'\n",
    "\n",
    "def  cast_column_by_type(df, cat_threshold=0.05, unique_threshold=15):\n",
    "    for col in df.columns:\n",
    "        col_type=infer_column_type(df[col],cat_threshold, unique_threshold)\n",
    "        if col_type=='categorical':\n",
    "           df[col] = df[col].astype('category')\n",
    "        elif col_type=='numeric':\n",
    "            df[col]=pd.to_numeric(df[col],errors='coerce')\n",
    "    return df"
   ]
  },
  {
   "cell_type": "code",
   "execution_count": 28,
   "id": "10b658d2",
   "metadata": {},
   "outputs": [
    {
     "name": "stderr",
     "output_type": "stream",
     "text": [
      "C:\\Users\\Joel David\\AppData\\Local\\Temp\\ipykernel_15480\\861121882.py:2: DeprecationWarning: is_categorical_dtype is deprecated and will be removed in a future version. Use isinstance(dtype, pd.CategoricalDtype) instead\n",
      "  if ptypes.is_categorical_dtype(series) or ptypes.is_object_dtype(series):\n",
      "C:\\Users\\Joel David\\AppData\\Local\\Temp\\ipykernel_15480\\861121882.py:2: DeprecationWarning: is_categorical_dtype is deprecated and will be removed in a future version. Use isinstance(dtype, pd.CategoricalDtype) instead\n",
      "  if ptypes.is_categorical_dtype(series) or ptypes.is_object_dtype(series):\n",
      "C:\\Users\\Joel David\\AppData\\Local\\Temp\\ipykernel_15480\\861121882.py:2: DeprecationWarning: is_categorical_dtype is deprecated and will be removed in a future version. Use isinstance(dtype, pd.CategoricalDtype) instead\n",
      "  if ptypes.is_categorical_dtype(series) or ptypes.is_object_dtype(series):\n",
      "C:\\Users\\Joel David\\AppData\\Local\\Temp\\ipykernel_15480\\861121882.py:2: DeprecationWarning: is_categorical_dtype is deprecated and will be removed in a future version. Use isinstance(dtype, pd.CategoricalDtype) instead\n",
      "  if ptypes.is_categorical_dtype(series) or ptypes.is_object_dtype(series):\n",
      "C:\\Users\\Joel David\\AppData\\Local\\Temp\\ipykernel_15480\\861121882.py:2: DeprecationWarning: is_categorical_dtype is deprecated and will be removed in a future version. Use isinstance(dtype, pd.CategoricalDtype) instead\n",
      "  if ptypes.is_categorical_dtype(series) or ptypes.is_object_dtype(series):\n",
      "C:\\Users\\Joel David\\AppData\\Local\\Temp\\ipykernel_15480\\861121882.py:2: DeprecationWarning: is_categorical_dtype is deprecated and will be removed in a future version. Use isinstance(dtype, pd.CategoricalDtype) instead\n",
      "  if ptypes.is_categorical_dtype(series) or ptypes.is_object_dtype(series):\n",
      "C:\\Users\\Joel David\\AppData\\Local\\Temp\\ipykernel_15480\\861121882.py:2: DeprecationWarning: is_categorical_dtype is deprecated and will be removed in a future version. Use isinstance(dtype, pd.CategoricalDtype) instead\n",
      "  if ptypes.is_categorical_dtype(series) or ptypes.is_object_dtype(series):\n",
      "C:\\Users\\Joel David\\AppData\\Local\\Temp\\ipykernel_15480\\861121882.py:2: DeprecationWarning: is_categorical_dtype is deprecated and will be removed in a future version. Use isinstance(dtype, pd.CategoricalDtype) instead\n",
      "  if ptypes.is_categorical_dtype(series) or ptypes.is_object_dtype(series):\n",
      "C:\\Users\\Joel David\\AppData\\Local\\Temp\\ipykernel_15480\\861121882.py:2: DeprecationWarning: is_categorical_dtype is deprecated and will be removed in a future version. Use isinstance(dtype, pd.CategoricalDtype) instead\n",
      "  if ptypes.is_categorical_dtype(series) or ptypes.is_object_dtype(series):\n",
      "C:\\Users\\Joel David\\AppData\\Local\\Temp\\ipykernel_15480\\861121882.py:2: DeprecationWarning: is_categorical_dtype is deprecated and will be removed in a future version. Use isinstance(dtype, pd.CategoricalDtype) instead\n",
      "  if ptypes.is_categorical_dtype(series) or ptypes.is_object_dtype(series):\n",
      "C:\\Users\\Joel David\\AppData\\Local\\Temp\\ipykernel_15480\\861121882.py:2: DeprecationWarning: is_categorical_dtype is deprecated and will be removed in a future version. Use isinstance(dtype, pd.CategoricalDtype) instead\n",
      "  if ptypes.is_categorical_dtype(series) or ptypes.is_object_dtype(series):\n",
      "C:\\Users\\Joel David\\AppData\\Local\\Temp\\ipykernel_15480\\861121882.py:2: DeprecationWarning: is_categorical_dtype is deprecated and will be removed in a future version. Use isinstance(dtype, pd.CategoricalDtype) instead\n",
      "  if ptypes.is_categorical_dtype(series) or ptypes.is_object_dtype(series):\n",
      "C:\\Users\\Joel David\\AppData\\Local\\Temp\\ipykernel_15480\\861121882.py:2: DeprecationWarning: is_categorical_dtype is deprecated and will be removed in a future version. Use isinstance(dtype, pd.CategoricalDtype) instead\n",
      "  if ptypes.is_categorical_dtype(series) or ptypes.is_object_dtype(series):\n",
      "C:\\Users\\Joel David\\AppData\\Local\\Temp\\ipykernel_15480\\861121882.py:2: DeprecationWarning: is_categorical_dtype is deprecated and will be removed in a future version. Use isinstance(dtype, pd.CategoricalDtype) instead\n",
      "  if ptypes.is_categorical_dtype(series) or ptypes.is_object_dtype(series):\n",
      "C:\\Users\\Joel David\\AppData\\Local\\Temp\\ipykernel_15480\\861121882.py:2: DeprecationWarning: is_categorical_dtype is deprecated and will be removed in a future version. Use isinstance(dtype, pd.CategoricalDtype) instead\n",
      "  if ptypes.is_categorical_dtype(series) or ptypes.is_object_dtype(series):\n",
      "C:\\Users\\Joel David\\AppData\\Local\\Temp\\ipykernel_15480\\861121882.py:2: DeprecationWarning: is_categorical_dtype is deprecated and will be removed in a future version. Use isinstance(dtype, pd.CategoricalDtype) instead\n",
      "  if ptypes.is_categorical_dtype(series) or ptypes.is_object_dtype(series):\n",
      "C:\\Users\\Joel David\\AppData\\Local\\Temp\\ipykernel_15480\\861121882.py:2: DeprecationWarning: is_categorical_dtype is deprecated and will be removed in a future version. Use isinstance(dtype, pd.CategoricalDtype) instead\n",
      "  if ptypes.is_categorical_dtype(series) or ptypes.is_object_dtype(series):\n",
      "C:\\Users\\Joel David\\AppData\\Local\\Temp\\ipykernel_15480\\861121882.py:2: DeprecationWarning: is_categorical_dtype is deprecated and will be removed in a future version. Use isinstance(dtype, pd.CategoricalDtype) instead\n",
      "  if ptypes.is_categorical_dtype(series) or ptypes.is_object_dtype(series):\n",
      "C:\\Users\\Joel David\\AppData\\Local\\Temp\\ipykernel_15480\\861121882.py:2: DeprecationWarning: is_categorical_dtype is deprecated and will be removed in a future version. Use isinstance(dtype, pd.CategoricalDtype) instead\n",
      "  if ptypes.is_categorical_dtype(series) or ptypes.is_object_dtype(series):\n",
      "C:\\Users\\Joel David\\AppData\\Local\\Temp\\ipykernel_15480\\861121882.py:2: DeprecationWarning: is_categorical_dtype is deprecated and will be removed in a future version. Use isinstance(dtype, pd.CategoricalDtype) instead\n",
      "  if ptypes.is_categorical_dtype(series) or ptypes.is_object_dtype(series):\n",
      "C:\\Users\\Joel David\\AppData\\Local\\Temp\\ipykernel_15480\\861121882.py:2: DeprecationWarning: is_categorical_dtype is deprecated and will be removed in a future version. Use isinstance(dtype, pd.CategoricalDtype) instead\n",
      "  if ptypes.is_categorical_dtype(series) or ptypes.is_object_dtype(series):\n",
      "C:\\Users\\Joel David\\AppData\\Local\\Temp\\ipykernel_15480\\861121882.py:2: DeprecationWarning: is_categorical_dtype is deprecated and will be removed in a future version. Use isinstance(dtype, pd.CategoricalDtype) instead\n",
      "  if ptypes.is_categorical_dtype(series) or ptypes.is_object_dtype(series):\n",
      "C:\\Users\\Joel David\\AppData\\Local\\Temp\\ipykernel_15480\\861121882.py:2: DeprecationWarning: is_categorical_dtype is deprecated and will be removed in a future version. Use isinstance(dtype, pd.CategoricalDtype) instead\n",
      "  if ptypes.is_categorical_dtype(series) or ptypes.is_object_dtype(series):\n",
      "C:\\Users\\Joel David\\AppData\\Local\\Temp\\ipykernel_15480\\861121882.py:2: DeprecationWarning: is_categorical_dtype is deprecated and will be removed in a future version. Use isinstance(dtype, pd.CategoricalDtype) instead\n",
      "  if ptypes.is_categorical_dtype(series) or ptypes.is_object_dtype(series):\n",
      "C:\\Users\\Joel David\\AppData\\Local\\Temp\\ipykernel_15480\\861121882.py:2: DeprecationWarning: is_categorical_dtype is deprecated and will be removed in a future version. Use isinstance(dtype, pd.CategoricalDtype) instead\n",
      "  if ptypes.is_categorical_dtype(series) or ptypes.is_object_dtype(series):\n",
      "C:\\Users\\Joel David\\AppData\\Local\\Temp\\ipykernel_15480\\861121882.py:2: DeprecationWarning: is_categorical_dtype is deprecated and will be removed in a future version. Use isinstance(dtype, pd.CategoricalDtype) instead\n",
      "  if ptypes.is_categorical_dtype(series) or ptypes.is_object_dtype(series):\n",
      "C:\\Users\\Joel David\\AppData\\Local\\Temp\\ipykernel_15480\\861121882.py:2: DeprecationWarning: is_categorical_dtype is deprecated and will be removed in a future version. Use isinstance(dtype, pd.CategoricalDtype) instead\n",
      "  if ptypes.is_categorical_dtype(series) or ptypes.is_object_dtype(series):\n",
      "C:\\Users\\Joel David\\AppData\\Local\\Temp\\ipykernel_15480\\861121882.py:2: DeprecationWarning: is_categorical_dtype is deprecated and will be removed in a future version. Use isinstance(dtype, pd.CategoricalDtype) instead\n",
      "  if ptypes.is_categorical_dtype(series) or ptypes.is_object_dtype(series):\n",
      "C:\\Users\\Joel David\\AppData\\Local\\Temp\\ipykernel_15480\\861121882.py:2: DeprecationWarning: is_categorical_dtype is deprecated and will be removed in a future version. Use isinstance(dtype, pd.CategoricalDtype) instead\n",
      "  if ptypes.is_categorical_dtype(series) or ptypes.is_object_dtype(series):\n",
      "C:\\Users\\Joel David\\AppData\\Local\\Temp\\ipykernel_15480\\861121882.py:2: DeprecationWarning: is_categorical_dtype is deprecated and will be removed in a future version. Use isinstance(dtype, pd.CategoricalDtype) instead\n",
      "  if ptypes.is_categorical_dtype(series) or ptypes.is_object_dtype(series):\n",
      "C:\\Users\\Joel David\\AppData\\Local\\Temp\\ipykernel_15480\\861121882.py:2: DeprecationWarning: is_categorical_dtype is deprecated and will be removed in a future version. Use isinstance(dtype, pd.CategoricalDtype) instead\n",
      "  if ptypes.is_categorical_dtype(series) or ptypes.is_object_dtype(series):\n",
      "C:\\Users\\Joel David\\AppData\\Local\\Temp\\ipykernel_15480\\861121882.py:2: DeprecationWarning: is_categorical_dtype is deprecated and will be removed in a future version. Use isinstance(dtype, pd.CategoricalDtype) instead\n",
      "  if ptypes.is_categorical_dtype(series) or ptypes.is_object_dtype(series):\n",
      "C:\\Users\\Joel David\\AppData\\Local\\Temp\\ipykernel_15480\\861121882.py:2: DeprecationWarning: is_categorical_dtype is deprecated and will be removed in a future version. Use isinstance(dtype, pd.CategoricalDtype) instead\n",
      "  if ptypes.is_categorical_dtype(series) or ptypes.is_object_dtype(series):\n",
      "C:\\Users\\Joel David\\AppData\\Local\\Temp\\ipykernel_15480\\861121882.py:2: DeprecationWarning: is_categorical_dtype is deprecated and will be removed in a future version. Use isinstance(dtype, pd.CategoricalDtype) instead\n",
      "  if ptypes.is_categorical_dtype(series) or ptypes.is_object_dtype(series):\n",
      "C:\\Users\\Joel David\\AppData\\Local\\Temp\\ipykernel_15480\\861121882.py:2: DeprecationWarning: is_categorical_dtype is deprecated and will be removed in a future version. Use isinstance(dtype, pd.CategoricalDtype) instead\n",
      "  if ptypes.is_categorical_dtype(series) or ptypes.is_object_dtype(series):\n",
      "C:\\Users\\Joel David\\AppData\\Local\\Temp\\ipykernel_15480\\861121882.py:2: DeprecationWarning: is_categorical_dtype is deprecated and will be removed in a future version. Use isinstance(dtype, pd.CategoricalDtype) instead\n",
      "  if ptypes.is_categorical_dtype(series) or ptypes.is_object_dtype(series):\n"
     ]
    }
   ],
   "source": [
    "df_type=cast_column_by_type(df)"
   ]
  },
  {
   "cell_type": "code",
   "execution_count": 57,
   "id": "53bd380e",
   "metadata": {},
   "outputs": [],
   "source": [
    "def summarize_and_test(df,group_col,alpha=0.05):\n",
    "    numeric_cols=df.select_dtypes(include=[np.number]).columns.drop(group_col, errors='ignore')\n",
    "    cat_cols=df.select_dtypes(include=['category','object','bool'] ).columns.drop(group_col,errors='ignore')\n",
    "    groups=df[group_col].dropna().unique()\n",
    "    results=[]\n",
    "\n",
    "    #format p-value\n",
    "    fmt_p = lambda p: f\"{p:.3g}\"\n",
    "\n",
    "    for var in numeric_cols:\n",
    "       data_by_g=[df.loc[df[group_col]==g,var].dropna() for g in groups]\n",
    "       #normality tst\n",
    "       sw_p=[stats.shapiro(x)[1] if len(x)>=3 and len(x)<=5000 else 1.0 for x in data_by_g]\n",
    "       \n",
    "       all_normal =  all([p>alpha for p in sw_p])\n",
    "       if len(groups)== 2:\n",
    "           g1,g2=data_by_g\n",
    "           if all_normal:\n",
    "               test_name,test_stat, p='t-test',*stats.ttest_ind(g1,g2,nan_policy='omit')\n",
    "           else:\n",
    "               test_name,test_stat,p='Mann-Whitney U',*stats.mannwhitneyu(g1,g2,alternative='two-sided')\n",
    "       else:\n",
    "               if all_normal:\n",
    "                   test_name,test_stat, p='ANOVA',*stats.f_oneway(*data_by_g)\n",
    "               else:\n",
    "                   test_name,test_stat,p='Krustal-Wallis',*stats.kruskal(*data_by_g)\n",
    "\n",
    "       Sumaries={\n",
    "           g: f\"{df.loc[df[group_col]==g,var].mean():.2f} ({df.loc[df[group_col]==g,var].std(ddof=1):.2f})\"\n",
    "           for g in groups\n",
    "                  }  \n",
    "           \n",
    "       results.append({\n",
    "           'Variable': var,\n",
    "           'Test':test_name,\n",
    "           'Statistic': test_stat,\n",
    "           'p_value':fmt_p(p),\n",
    "           **Sumaries\n",
    "       })\n",
    "\n",
    "       #categorical variables\n",
    "       for var in cat_cols:\n",
    "           ct=pd.crosstab(df[var],df[group_col])\n",
    "           #expectde counts\n",
    "           chi2,chi2_p,dof, exp=stats.chi2_contingency(ct,correction=False)\n",
    "           #check if all expected counts are greather than 5\n",
    "           use_fisher=(ct.shape==(2,2) and (exp<5).any())\n",
    "           if use_fisher:\n",
    "               #fisher´s exact test\n",
    "               _, fisher_p=stats.fisher_exact(ct)\n",
    "               test_name='Fisher\\'s Exact Test'\n",
    "               p=chi2_p\n",
    "           else:\n",
    "               #chi-square test\n",
    "               test_name='Chi-squared Test'\n",
    "               p=chi2_p\n",
    "               \n",
    "           summaries ={}\n",
    "           for g in groups:\n",
    "               col_tot= ct[g].sum()\n",
    "               summaries[g]=';'.join( f\"{level}:{ct.loc[level,g]} ({ct.loc[level,g]/col_tot*100:.1f}%)\"\n",
    "               for level in ct.index\n",
    "            )\n",
    "               results.append({\n",
    "                   'Variable':var,\n",
    "                   'Test':test_name,\n",
    "                   'Statistic': None,\n",
    "                   'p-value':fmt_p(p),\n",
    "                   **summaries\n",
    "               })\n",
    "\n",
    "    return pd.DataFrame(results)"
   ]
  },
  {
   "cell_type": "code",
   "execution_count": 58,
   "id": "f0c367a9",
   "metadata": {},
   "outputs": [],
   "source": [
    "df_test=df_type.copy()\n",
    "df_test=df_test.drop(columns=['PatientId'])\n",
    "df_test['Diagnostico_bin']=np.where(df_test['Diagnostico']!='Ninguno',1,0)\n",
    "df_test=df_test.drop(columns=['Diagnostico'])\n",
    "summary_table=summarize_and_test(df_test, group_col='Diagnostico_bin')"
   ]
  },
  {
   "cell_type": "code",
   "execution_count": 59,
   "id": "c08d0340",
   "metadata": {},
   "outputs": [
    {
     "ename": "ImportError",
     "evalue": "Missing optional dependency 'tabulate'.  Use pip or conda to install tabulate.",
     "output_type": "error",
     "traceback": [
      "\u001b[31m---------------------------------------------------------------------------\u001b[39m",
      "\u001b[31mModuleNotFoundError\u001b[39m                       Traceback (most recent call last)",
      "\u001b[36mFile \u001b[39m\u001b[32mc:\\Users\\Joel David\\OneDrive\\Desktop\\Rut\\Rut UNAM\\2do semestre\\Bioestadística\\Statacode\\.venv\\Lib\\site-packages\\pandas\\compat\\_optional.py:135\u001b[39m, in \u001b[36mimport_optional_dependency\u001b[39m\u001b[34m(name, extra, errors, min_version)\u001b[39m\n\u001b[32m    134\u001b[39m \u001b[38;5;28;01mtry\u001b[39;00m:\n\u001b[32m--> \u001b[39m\u001b[32m135\u001b[39m     module = \u001b[43mimportlib\u001b[49m\u001b[43m.\u001b[49m\u001b[43mimport_module\u001b[49m\u001b[43m(\u001b[49m\u001b[43mname\u001b[49m\u001b[43m)\u001b[49m\n\u001b[32m    136\u001b[39m \u001b[38;5;28;01mexcept\u001b[39;00m \u001b[38;5;167;01mImportError\u001b[39;00m:\n",
      "\u001b[36mFile \u001b[39m\u001b[32m~\\AppData\\Local\\Programs\\Python\\Python313\\Lib\\importlib\\__init__.py:88\u001b[39m, in \u001b[36mimport_module\u001b[39m\u001b[34m(name, package)\u001b[39m\n\u001b[32m     87\u001b[39m         level += \u001b[32m1\u001b[39m\n\u001b[32m---> \u001b[39m\u001b[32m88\u001b[39m \u001b[38;5;28;01mreturn\u001b[39;00m \u001b[43m_bootstrap\u001b[49m\u001b[43m.\u001b[49m\u001b[43m_gcd_import\u001b[49m\u001b[43m(\u001b[49m\u001b[43mname\u001b[49m\u001b[43m[\u001b[49m\u001b[43mlevel\u001b[49m\u001b[43m:\u001b[49m\u001b[43m]\u001b[49m\u001b[43m,\u001b[49m\u001b[43m \u001b[49m\u001b[43mpackage\u001b[49m\u001b[43m,\u001b[49m\u001b[43m \u001b[49m\u001b[43mlevel\u001b[49m\u001b[43m)\u001b[49m\n",
      "\u001b[36mFile \u001b[39m\u001b[32m<frozen importlib._bootstrap>:1387\u001b[39m, in \u001b[36m_gcd_import\u001b[39m\u001b[34m(name, package, level)\u001b[39m\n",
      "\u001b[36mFile \u001b[39m\u001b[32m<frozen importlib._bootstrap>:1360\u001b[39m, in \u001b[36m_find_and_load\u001b[39m\u001b[34m(name, import_)\u001b[39m\n",
      "\u001b[36mFile \u001b[39m\u001b[32m<frozen importlib._bootstrap>:1324\u001b[39m, in \u001b[36m_find_and_load_unlocked\u001b[39m\u001b[34m(name, import_)\u001b[39m\n",
      "\u001b[31mModuleNotFoundError\u001b[39m: No module named 'tabulate'",
      "\nDuring handling of the above exception, another exception occurred:\n",
      "\u001b[31mImportError\u001b[39m                               Traceback (most recent call last)",
      "\u001b[36mCell\u001b[39m\u001b[36m \u001b[39m\u001b[32mIn[59]\u001b[39m\u001b[32m, line 1\u001b[39m\n\u001b[32m----> \u001b[39m\u001b[32m1\u001b[39m \u001b[38;5;28mprint\u001b[39m(\u001b[43msummary_table\u001b[49m\u001b[43m.\u001b[49m\u001b[43mto_markdown\u001b[49m\u001b[43m(\u001b[49m\u001b[43mindex\u001b[49m\u001b[43m=\u001b[49m\u001b[38;5;28;43;01mFalse\u001b[39;49;00m\u001b[43m)\u001b[49m)\n",
      "\u001b[36mFile \u001b[39m\u001b[32mc:\\Users\\Joel David\\OneDrive\\Desktop\\Rut\\Rut UNAM\\2do semestre\\Bioestadística\\Statacode\\.venv\\Lib\\site-packages\\pandas\\util\\_decorators.py:333\u001b[39m, in \u001b[36mdeprecate_nonkeyword_arguments.<locals>.decorate.<locals>.wrapper\u001b[39m\u001b[34m(*args, **kwargs)\u001b[39m\n\u001b[32m    327\u001b[39m \u001b[38;5;28;01mif\u001b[39;00m \u001b[38;5;28mlen\u001b[39m(args) > num_allow_args:\n\u001b[32m    328\u001b[39m     warnings.warn(\n\u001b[32m    329\u001b[39m         msg.format(arguments=_format_argument_list(allow_args)),\n\u001b[32m    330\u001b[39m         \u001b[38;5;167;01mFutureWarning\u001b[39;00m,\n\u001b[32m    331\u001b[39m         stacklevel=find_stack_level(),\n\u001b[32m    332\u001b[39m     )\n\u001b[32m--> \u001b[39m\u001b[32m333\u001b[39m \u001b[38;5;28;01mreturn\u001b[39;00m \u001b[43mfunc\u001b[49m\u001b[43m(\u001b[49m\u001b[43m*\u001b[49m\u001b[43margs\u001b[49m\u001b[43m,\u001b[49m\u001b[43m \u001b[49m\u001b[43m*\u001b[49m\u001b[43m*\u001b[49m\u001b[43mkwargs\u001b[49m\u001b[43m)\u001b[49m\n",
      "\u001b[36mFile \u001b[39m\u001b[32mc:\\Users\\Joel David\\OneDrive\\Desktop\\Rut\\Rut UNAM\\2do semestre\\Bioestadística\\Statacode\\.venv\\Lib\\site-packages\\pandas\\core\\frame.py:2983\u001b[39m, in \u001b[36mDataFrame.to_markdown\u001b[39m\u001b[34m(self, buf, mode, index, storage_options, **kwargs)\u001b[39m\n\u001b[32m   2981\u001b[39m kwargs.setdefault(\u001b[33m\"\u001b[39m\u001b[33mtablefmt\u001b[39m\u001b[33m\"\u001b[39m, \u001b[33m\"\u001b[39m\u001b[33mpipe\u001b[39m\u001b[33m\"\u001b[39m)\n\u001b[32m   2982\u001b[39m kwargs.setdefault(\u001b[33m\"\u001b[39m\u001b[33mshowindex\u001b[39m\u001b[33m\"\u001b[39m, index)\n\u001b[32m-> \u001b[39m\u001b[32m2983\u001b[39m tabulate = \u001b[43mimport_optional_dependency\u001b[49m\u001b[43m(\u001b[49m\u001b[33;43m\"\u001b[39;49m\u001b[33;43mtabulate\u001b[39;49m\u001b[33;43m\"\u001b[39;49m\u001b[43m)\u001b[49m\n\u001b[32m   2984\u001b[39m result = tabulate.tabulate(\u001b[38;5;28mself\u001b[39m, **kwargs)\n\u001b[32m   2985\u001b[39m \u001b[38;5;28;01mif\u001b[39;00m buf \u001b[38;5;129;01mis\u001b[39;00m \u001b[38;5;28;01mNone\u001b[39;00m:\n",
      "\u001b[36mFile \u001b[39m\u001b[32mc:\\Users\\Joel David\\OneDrive\\Desktop\\Rut\\Rut UNAM\\2do semestre\\Bioestadística\\Statacode\\.venv\\Lib\\site-packages\\pandas\\compat\\_optional.py:138\u001b[39m, in \u001b[36mimport_optional_dependency\u001b[39m\u001b[34m(name, extra, errors, min_version)\u001b[39m\n\u001b[32m    136\u001b[39m \u001b[38;5;28;01mexcept\u001b[39;00m \u001b[38;5;167;01mImportError\u001b[39;00m:\n\u001b[32m    137\u001b[39m     \u001b[38;5;28;01mif\u001b[39;00m errors == \u001b[33m\"\u001b[39m\u001b[33mraise\u001b[39m\u001b[33m\"\u001b[39m:\n\u001b[32m--> \u001b[39m\u001b[32m138\u001b[39m         \u001b[38;5;28;01mraise\u001b[39;00m \u001b[38;5;167;01mImportError\u001b[39;00m(msg)\n\u001b[32m    139\u001b[39m     \u001b[38;5;28;01mreturn\u001b[39;00m \u001b[38;5;28;01mNone\u001b[39;00m\n\u001b[32m    141\u001b[39m \u001b[38;5;66;03m# Handle submodules: if we have submodule, grab parent module from sys.modules\u001b[39;00m\n",
      "\u001b[31mImportError\u001b[39m: Missing optional dependency 'tabulate'.  Use pip or conda to install tabulate."
     ]
    }
   ],
   "source": [
    "print(summary_table.to_markdown(index=False))"
   ]
  },
  {
   "cell_type": "code",
   "execution_count": null,
   "id": "0158a922",
   "metadata": {},
   "outputs": [],
   "source": [
    "#para cambiar por os\n",
    "# \n",
    "\n",
    "data_folder = Path(\"Data\")  working directory\n",
    "\n",
    "file_path = data_folder / \"example.txt\"\n",
    "\n",
    "data_folder = Path(\"Data\") # relative to your current \n",
    "\n",
    "file_path = data_folder / \"example.txt\"\n",
    "\n",
    "out_folder = Path(\"out\")\n",
    "\n",
    "out_folder.mkdir(parents=True, exist_ok=True) \n",
    "\n",
    "out_file = out_folder / \"output.txt\""
   ]
  }
 ],
 "metadata": {
  "kernelspec": {
   "display_name": ".venv",
   "language": "python",
   "name": "python3"
  },
  "language_info": {
   "codemirror_mode": {
    "name": "ipython",
    "version": 3
   },
   "file_extension": ".py",
   "mimetype": "text/x-python",
   "name": "python",
   "nbconvert_exporter": "python",
   "pygments_lexer": "ipython3",
   "version": "3.13.2"
  }
 },
 "nbformat": 4,
 "nbformat_minor": 5
}
